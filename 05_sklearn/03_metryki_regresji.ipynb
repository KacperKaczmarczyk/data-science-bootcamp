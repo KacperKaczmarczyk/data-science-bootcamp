{
  "nbformat": 4,
  "nbformat_minor": 0,
  "metadata": {
    "colab": {
      "provenance": [],
      "authorship_tag": "ABX9TyNk/lCbc+FtarId6tUgmzs6",
      "include_colab_link": true
    },
    "kernelspec": {
      "name": "python3",
      "display_name": "Python 3"
    },
    "language_info": {
      "name": "python"
    }
  },
  "cells": [
    {
      "cell_type": "markdown",
      "metadata": {
        "id": "view-in-github",
        "colab_type": "text"
      },
      "source": [
        "<a href=\"https://colab.research.google.com/github/KacperKaczmarczyk/data-science-bootcamp/blob/main/05_sklearn/03_metryki_regresji.ipynb\" target=\"_parent\"><img src=\"https://colab.research.google.com/assets/colab-badge.svg\" alt=\"Open In Colab\"/></a>"
      ]
    },
    {
      "cell_type": "code",
      "execution_count": null,
      "metadata": {
        "id": "NCfgkcavs2SU"
      },
      "outputs": [],
      "source": []
    },
    {
      "cell_type": "markdown",
      "metadata": {
        "id": "5gjFu2l9IMsj"
      },
      "source": [
        "### scikit-learn\n",
        ">Strona biblioteki: [https://scikit-learn.org](https://scikit-learn.org)  \n",
        ">\n",
        ">Dokumentacja/User Guide: [https://scikit-learn.org/stable/user_guide.html](https://scikit-learn.org/stable/user_guide.html)\n",
        ">\n",
        ">Podstawowa biblioteka do uczenia maszynowego w języku Python.\n",
        ">\n",
        ">Aby zainstalować bibliotekę scikit-learn, użyj polecenia poniżej:\n",
        "```\n",
        "pip install scikit-learn\n",
        "```\n",
        "\n",
        "### Metryki - Problem regresji:\n",
        "1. [Import bibliotek](#a0)\n",
        "2. [Interpretacja graficzna](#a2)\n",
        "3. [Mean Absolute Error - MAE - Średni błąd bezwzględny](#a3)\n",
        "4. [Mean Squared Error - MSE - Błąd średniokwadratowy](#a4)\n",
        "5. [Root Mean Squared Error - RMSE - Pierwiastek błędu średniokwadratowego](#a5)\n",
        "6. [Max Error - Błąd maksymalny](#a6)\n",
        "7. [R2 score - współczynnik determinacji](#a7)\n",
        "\n",
        "    "
      ]
    },
    {
      "cell_type": "code",
      "source": [
        "import numpy as np\n",
        "import pandas as pd\n",
        "import plotly.express as px\n",
        "import plotly.graph_objects as go\n"
      ],
      "metadata": {
        "id": "R64-y_7Js-hg"
      },
      "execution_count": 9,
      "outputs": []
    },
    {
      "cell_type": "code",
      "source": [
        "y_true = 100 + 20 * np.random.randn(50)\n",
        "y_true"
      ],
      "metadata": {
        "colab": {
          "base_uri": "https://localhost:8080/"
        },
        "id": "wgQ7EiB5tHOq",
        "outputId": "ffc4a117-ba6d-4cc7-9989-07bbd65a7f89"
      },
      "execution_count": 3,
      "outputs": [
        {
          "output_type": "execute_result",
          "data": {
            "text/plain": [
              "array([102.27256772,  94.26588858,  87.12160775,  88.01427049,\n",
              "       102.84018022, 103.17300784,  78.23508195, 138.0939243 ,\n",
              "       114.51573422, 120.65670443, 119.02484089, 108.41674867,\n",
              "        89.67412664, 131.19419123,  82.07383497,  97.08304809,\n",
              "       130.62816395,  95.388023  , 116.51752986,  69.277204  ,\n",
              "       102.69233051, 132.24708053,  98.88451377, 113.3301429 ,\n",
              "       119.36313618, 106.67751037, 111.14846327, 103.72509448,\n",
              "       103.65207397,  85.05169227,  80.70722305,  87.95001398,\n",
              "       101.01658474,  66.48124961, 116.41850559,  81.02337744,\n",
              "        92.39095799,  73.87590232, 103.66512617,  81.81235614,\n",
              "        83.67602274,  96.65949383,  84.9357469 , 109.5165712 ,\n",
              "        94.48153992,  92.60865172,  53.57654812,  97.73621583,\n",
              "        92.55620826, 103.10560099])"
            ]
          },
          "metadata": {},
          "execution_count": 3
        }
      ]
    },
    {
      "cell_type": "code",
      "source": [
        "y_pred = y_true + 10 * np.random.randn(50)\n",
        "y_pred"
      ],
      "metadata": {
        "colab": {
          "base_uri": "https://localhost:8080/"
        },
        "id": "zSunTQo1tOzy",
        "outputId": "52c9b73f-99e4-4c0d-9bda-c41bc8de07b9"
      },
      "execution_count": 4,
      "outputs": [
        {
          "output_type": "execute_result",
          "data": {
            "text/plain": [
              "array([ 84.4151734 ,  94.28174072,  66.3657273 ,  83.50639951,\n",
              "       108.93430055, 102.24357903,  80.97592874, 138.33974025,\n",
              "       107.05004178, 114.48632132,  97.23179728, 129.35705835,\n",
              "        89.52103692, 131.55425477,  90.3557972 ,  92.28074859,\n",
              "       133.83375852,  79.81575039, 123.90946535,  70.89694603,\n",
              "       102.74813214, 132.10528392, 103.93441096,  99.29342545,\n",
              "       115.38767656,  89.26137478, 105.09450298, 104.07085925,\n",
              "        89.63177821,  82.13775447,  65.28173024,  70.75501829,\n",
              "       101.61054297,  63.34775134, 124.91075603,  88.65952204,\n",
              "        76.88251403,  90.45351737,  83.9450671 ,  79.48417831,\n",
              "        82.28473731, 106.83826777,  73.21321892,  83.40635205,\n",
              "        84.05491993,  88.27191609,  52.68938298,  99.04917892,\n",
              "       106.39346205, 114.2991058 ])"
            ]
          },
          "metadata": {},
          "execution_count": 4
        }
      ]
    },
    {
      "cell_type": "code",
      "source": [
        "results = pd.DataFrame({'y_true':y_true, 'y_pred': y_pred})\n",
        "results.head()"
      ],
      "metadata": {
        "colab": {
          "base_uri": "https://localhost:8080/",
          "height": 206
        },
        "id": "tM7-6gbRuNiI",
        "outputId": "580e2012-e284-49ea-f1f1-ac5300230ac4"
      },
      "execution_count": 5,
      "outputs": [
        {
          "output_type": "execute_result",
          "data": {
            "text/plain": [
              "       y_true      y_pred\n",
              "0  102.272568   84.415173\n",
              "1   94.265889   94.281741\n",
              "2   87.121608   66.365727\n",
              "3   88.014270   83.506400\n",
              "4  102.840180  108.934301"
            ],
            "text/html": [
              "\n",
              "  <div id=\"df-82606f14-3417-486b-b078-9f19ca64fa1e\">\n",
              "    <div class=\"colab-df-container\">\n",
              "      <div>\n",
              "<style scoped>\n",
              "    .dataframe tbody tr th:only-of-type {\n",
              "        vertical-align: middle;\n",
              "    }\n",
              "\n",
              "    .dataframe tbody tr th {\n",
              "        vertical-align: top;\n",
              "    }\n",
              "\n",
              "    .dataframe thead th {\n",
              "        text-align: right;\n",
              "    }\n",
              "</style>\n",
              "<table border=\"1\" class=\"dataframe\">\n",
              "  <thead>\n",
              "    <tr style=\"text-align: right;\">\n",
              "      <th></th>\n",
              "      <th>y_true</th>\n",
              "      <th>y_pred</th>\n",
              "    </tr>\n",
              "  </thead>\n",
              "  <tbody>\n",
              "    <tr>\n",
              "      <th>0</th>\n",
              "      <td>102.272568</td>\n",
              "      <td>84.415173</td>\n",
              "    </tr>\n",
              "    <tr>\n",
              "      <th>1</th>\n",
              "      <td>94.265889</td>\n",
              "      <td>94.281741</td>\n",
              "    </tr>\n",
              "    <tr>\n",
              "      <th>2</th>\n",
              "      <td>87.121608</td>\n",
              "      <td>66.365727</td>\n",
              "    </tr>\n",
              "    <tr>\n",
              "      <th>3</th>\n",
              "      <td>88.014270</td>\n",
              "      <td>83.506400</td>\n",
              "    </tr>\n",
              "    <tr>\n",
              "      <th>4</th>\n",
              "      <td>102.840180</td>\n",
              "      <td>108.934301</td>\n",
              "    </tr>\n",
              "  </tbody>\n",
              "</table>\n",
              "</div>\n",
              "      <button class=\"colab-df-convert\" onclick=\"convertToInteractive('df-82606f14-3417-486b-b078-9f19ca64fa1e')\"\n",
              "              title=\"Convert this dataframe to an interactive table.\"\n",
              "              style=\"display:none;\">\n",
              "        \n",
              "  <svg xmlns=\"http://www.w3.org/2000/svg\" height=\"24px\"viewBox=\"0 0 24 24\"\n",
              "       width=\"24px\">\n",
              "    <path d=\"M0 0h24v24H0V0z\" fill=\"none\"/>\n",
              "    <path d=\"M18.56 5.44l.94 2.06.94-2.06 2.06-.94-2.06-.94-.94-2.06-.94 2.06-2.06.94zm-11 1L8.5 8.5l.94-2.06 2.06-.94-2.06-.94L8.5 2.5l-.94 2.06-2.06.94zm10 10l.94 2.06.94-2.06 2.06-.94-2.06-.94-.94-2.06-.94 2.06-2.06.94z\"/><path d=\"M17.41 7.96l-1.37-1.37c-.4-.4-.92-.59-1.43-.59-.52 0-1.04.2-1.43.59L10.3 9.45l-7.72 7.72c-.78.78-.78 2.05 0 2.83L4 21.41c.39.39.9.59 1.41.59.51 0 1.02-.2 1.41-.59l7.78-7.78 2.81-2.81c.8-.78.8-2.07 0-2.86zM5.41 20L4 18.59l7.72-7.72 1.47 1.35L5.41 20z\"/>\n",
              "  </svg>\n",
              "      </button>\n",
              "      \n",
              "  <style>\n",
              "    .colab-df-container {\n",
              "      display:flex;\n",
              "      flex-wrap:wrap;\n",
              "      gap: 12px;\n",
              "    }\n",
              "\n",
              "    .colab-df-convert {\n",
              "      background-color: #E8F0FE;\n",
              "      border: none;\n",
              "      border-radius: 50%;\n",
              "      cursor: pointer;\n",
              "      display: none;\n",
              "      fill: #1967D2;\n",
              "      height: 32px;\n",
              "      padding: 0 0 0 0;\n",
              "      width: 32px;\n",
              "    }\n",
              "\n",
              "    .colab-df-convert:hover {\n",
              "      background-color: #E2EBFA;\n",
              "      box-shadow: 0px 1px 2px rgba(60, 64, 67, 0.3), 0px 1px 3px 1px rgba(60, 64, 67, 0.15);\n",
              "      fill: #174EA6;\n",
              "    }\n",
              "\n",
              "    [theme=dark] .colab-df-convert {\n",
              "      background-color: #3B4455;\n",
              "      fill: #D2E3FC;\n",
              "    }\n",
              "\n",
              "    [theme=dark] .colab-df-convert:hover {\n",
              "      background-color: #434B5C;\n",
              "      box-shadow: 0px 1px 3px 1px rgba(0, 0, 0, 0.15);\n",
              "      filter: drop-shadow(0px 1px 2px rgba(0, 0, 0, 0.3));\n",
              "      fill: #FFFFFF;\n",
              "    }\n",
              "  </style>\n",
              "\n",
              "      <script>\n",
              "        const buttonEl =\n",
              "          document.querySelector('#df-82606f14-3417-486b-b078-9f19ca64fa1e button.colab-df-convert');\n",
              "        buttonEl.style.display =\n",
              "          google.colab.kernel.accessAllowed ? 'block' : 'none';\n",
              "\n",
              "        async function convertToInteractive(key) {\n",
              "          const element = document.querySelector('#df-82606f14-3417-486b-b078-9f19ca64fa1e');\n",
              "          const dataTable =\n",
              "            await google.colab.kernel.invokeFunction('convertToInteractive',\n",
              "                                                     [key], {});\n",
              "          if (!dataTable) return;\n",
              "\n",
              "          const docLinkHtml = 'Like what you see? Visit the ' +\n",
              "            '<a target=\"_blank\" href=https://colab.research.google.com/notebooks/data_table.ipynb>data table notebook</a>'\n",
              "            + ' to learn more about interactive tables.';\n",
              "          element.innerHTML = '';\n",
              "          dataTable['output_type'] = 'display_data';\n",
              "          await google.colab.output.renderOutput(dataTable, element);\n",
              "          const docLink = document.createElement('div');\n",
              "          docLink.innerHTML = docLinkHtml;\n",
              "          element.appendChild(docLink);\n",
              "        }\n",
              "      </script>\n",
              "    </div>\n",
              "  </div>\n",
              "  "
            ]
          },
          "metadata": {},
          "execution_count": 5
        }
      ]
    },
    {
      "cell_type": "code",
      "source": [
        "results['error'] = results['y_true'] - results['y_pred']\n",
        "results.head()"
      ],
      "metadata": {
        "colab": {
          "base_uri": "https://localhost:8080/",
          "height": 206
        },
        "id": "W89_A-nDuWaa",
        "outputId": "a1f2e258-e1aa-444f-c0e4-608cfb97a81f"
      },
      "execution_count": 7,
      "outputs": [
        {
          "output_type": "execute_result",
          "data": {
            "text/plain": [
              "       y_true      y_pred      error\n",
              "0  102.272568   84.415173  17.857394\n",
              "1   94.265889   94.281741  -0.015852\n",
              "2   87.121608   66.365727  20.755880\n",
              "3   88.014270   83.506400   4.507871\n",
              "4  102.840180  108.934301  -6.094120"
            ],
            "text/html": [
              "\n",
              "  <div id=\"df-679a771d-8b5c-49f8-b813-cb1b126cba8d\">\n",
              "    <div class=\"colab-df-container\">\n",
              "      <div>\n",
              "<style scoped>\n",
              "    .dataframe tbody tr th:only-of-type {\n",
              "        vertical-align: middle;\n",
              "    }\n",
              "\n",
              "    .dataframe tbody tr th {\n",
              "        vertical-align: top;\n",
              "    }\n",
              "\n",
              "    .dataframe thead th {\n",
              "        text-align: right;\n",
              "    }\n",
              "</style>\n",
              "<table border=\"1\" class=\"dataframe\">\n",
              "  <thead>\n",
              "    <tr style=\"text-align: right;\">\n",
              "      <th></th>\n",
              "      <th>y_true</th>\n",
              "      <th>y_pred</th>\n",
              "      <th>error</th>\n",
              "    </tr>\n",
              "  </thead>\n",
              "  <tbody>\n",
              "    <tr>\n",
              "      <th>0</th>\n",
              "      <td>102.272568</td>\n",
              "      <td>84.415173</td>\n",
              "      <td>17.857394</td>\n",
              "    </tr>\n",
              "    <tr>\n",
              "      <th>1</th>\n",
              "      <td>94.265889</td>\n",
              "      <td>94.281741</td>\n",
              "      <td>-0.015852</td>\n",
              "    </tr>\n",
              "    <tr>\n",
              "      <th>2</th>\n",
              "      <td>87.121608</td>\n",
              "      <td>66.365727</td>\n",
              "      <td>20.755880</td>\n",
              "    </tr>\n",
              "    <tr>\n",
              "      <th>3</th>\n",
              "      <td>88.014270</td>\n",
              "      <td>83.506400</td>\n",
              "      <td>4.507871</td>\n",
              "    </tr>\n",
              "    <tr>\n",
              "      <th>4</th>\n",
              "      <td>102.840180</td>\n",
              "      <td>108.934301</td>\n",
              "      <td>-6.094120</td>\n",
              "    </tr>\n",
              "  </tbody>\n",
              "</table>\n",
              "</div>\n",
              "      <button class=\"colab-df-convert\" onclick=\"convertToInteractive('df-679a771d-8b5c-49f8-b813-cb1b126cba8d')\"\n",
              "              title=\"Convert this dataframe to an interactive table.\"\n",
              "              style=\"display:none;\">\n",
              "        \n",
              "  <svg xmlns=\"http://www.w3.org/2000/svg\" height=\"24px\"viewBox=\"0 0 24 24\"\n",
              "       width=\"24px\">\n",
              "    <path d=\"M0 0h24v24H0V0z\" fill=\"none\"/>\n",
              "    <path d=\"M18.56 5.44l.94 2.06.94-2.06 2.06-.94-2.06-.94-.94-2.06-.94 2.06-2.06.94zm-11 1L8.5 8.5l.94-2.06 2.06-.94-2.06-.94L8.5 2.5l-.94 2.06-2.06.94zm10 10l.94 2.06.94-2.06 2.06-.94-2.06-.94-.94-2.06-.94 2.06-2.06.94z\"/><path d=\"M17.41 7.96l-1.37-1.37c-.4-.4-.92-.59-1.43-.59-.52 0-1.04.2-1.43.59L10.3 9.45l-7.72 7.72c-.78.78-.78 2.05 0 2.83L4 21.41c.39.39.9.59 1.41.59.51 0 1.02-.2 1.41-.59l7.78-7.78 2.81-2.81c.8-.78.8-2.07 0-2.86zM5.41 20L4 18.59l7.72-7.72 1.47 1.35L5.41 20z\"/>\n",
              "  </svg>\n",
              "      </button>\n",
              "      \n",
              "  <style>\n",
              "    .colab-df-container {\n",
              "      display:flex;\n",
              "      flex-wrap:wrap;\n",
              "      gap: 12px;\n",
              "    }\n",
              "\n",
              "    .colab-df-convert {\n",
              "      background-color: #E8F0FE;\n",
              "      border: none;\n",
              "      border-radius: 50%;\n",
              "      cursor: pointer;\n",
              "      display: none;\n",
              "      fill: #1967D2;\n",
              "      height: 32px;\n",
              "      padding: 0 0 0 0;\n",
              "      width: 32px;\n",
              "    }\n",
              "\n",
              "    .colab-df-convert:hover {\n",
              "      background-color: #E2EBFA;\n",
              "      box-shadow: 0px 1px 2px rgba(60, 64, 67, 0.3), 0px 1px 3px 1px rgba(60, 64, 67, 0.15);\n",
              "      fill: #174EA6;\n",
              "    }\n",
              "\n",
              "    [theme=dark] .colab-df-convert {\n",
              "      background-color: #3B4455;\n",
              "      fill: #D2E3FC;\n",
              "    }\n",
              "\n",
              "    [theme=dark] .colab-df-convert:hover {\n",
              "      background-color: #434B5C;\n",
              "      box-shadow: 0px 1px 3px 1px rgba(0, 0, 0, 0.15);\n",
              "      filter: drop-shadow(0px 1px 2px rgba(0, 0, 0, 0.3));\n",
              "      fill: #FFFFFF;\n",
              "    }\n",
              "  </style>\n",
              "\n",
              "      <script>\n",
              "        const buttonEl =\n",
              "          document.querySelector('#df-679a771d-8b5c-49f8-b813-cb1b126cba8d button.colab-df-convert');\n",
              "        buttonEl.style.display =\n",
              "          google.colab.kernel.accessAllowed ? 'block' : 'none';\n",
              "\n",
              "        async function convertToInteractive(key) {\n",
              "          const element = document.querySelector('#df-679a771d-8b5c-49f8-b813-cb1b126cba8d');\n",
              "          const dataTable =\n",
              "            await google.colab.kernel.invokeFunction('convertToInteractive',\n",
              "                                                     [key], {});\n",
              "          if (!dataTable) return;\n",
              "\n",
              "          const docLinkHtml = 'Like what you see? Visit the ' +\n",
              "            '<a target=\"_blank\" href=https://colab.research.google.com/notebooks/data_table.ipynb>data table notebook</a>'\n",
              "            + ' to learn more about interactive tables.';\n",
              "          element.innerHTML = '';\n",
              "          dataTable['output_type'] = 'display_data';\n",
              "          await google.colab.output.renderOutput(dataTable, element);\n",
              "          const docLink = document.createElement('div');\n",
              "          docLink.innerHTML = docLinkHtml;\n",
              "          element.appendChild(docLink);\n",
              "        }\n",
              "      </script>\n",
              "    </div>\n",
              "  </div>\n",
              "  "
            ]
          },
          "metadata": {},
          "execution_count": 7
        }
      ]
    },
    {
      "cell_type": "markdown",
      "source": [
        "#Interpretacja graficzna"
      ],
      "metadata": {
        "id": "Xa9WcN-uugqd"
      }
    },
    {
      "cell_type": "code",
      "source": [
        "def plot_regression_results(y_true, y_pred): \n",
        "    results = pd.DataFrame({'y_true': y_true, 'y_pred': y_pred})\n",
        "    min = results[['y_true', 'y_pred']].min().min()\n",
        "    max = results[['y_true', 'y_pred']].max().max()\n",
        "\n",
        "    fig = go.Figure(data=[go.Scatter(x=results['y_true'], y=results['y_pred'], mode='markers'),\n",
        "                    go.Scatter(x=[min, max], y=[min, max])],\n",
        "                    layout=go.Layout(showlegend=False, width=800, height=500,\n",
        "                                     xaxis_title='y_true', \n",
        "                                     yaxis_title='y_pred',\n",
        "                                     title='Regression results'))\n",
        "    fig.show()\n",
        "plot_regression_results(y_true, y_pred)"
      ],
      "metadata": {
        "colab": {
          "base_uri": "https://localhost:8080/",
          "height": 517
        },
        "id": "r-5GdKrkujhy",
        "outputId": "72024393-db70-4189-d425-f8e6771447c6"
      },
      "execution_count": 10,
      "outputs": [
        {
          "output_type": "display_data",
          "data": {
            "text/html": [
              "<html>\n",
              "<head><meta charset=\"utf-8\" /></head>\n",
              "<body>\n",
              "    <div>            <script src=\"https://cdnjs.cloudflare.com/ajax/libs/mathjax/2.7.5/MathJax.js?config=TeX-AMS-MML_SVG\"></script><script type=\"text/javascript\">if (window.MathJax) {MathJax.Hub.Config({SVG: {font: \"STIX-Web\"}});}</script>                <script type=\"text/javascript\">window.PlotlyConfig = {MathJaxConfig: 'local'};</script>\n",
              "        <script src=\"https://cdn.plot.ly/plotly-2.8.3.min.js\"></script>                <div id=\"3e42f104-bc7a-4f4f-8f09-7244be682829\" class=\"plotly-graph-div\" style=\"height:500px; width:800px;\"></div>            <script type=\"text/javascript\">                                    window.PLOTLYENV=window.PLOTLYENV || {};                                    if (document.getElementById(\"3e42f104-bc7a-4f4f-8f09-7244be682829\")) {                    Plotly.newPlot(                        \"3e42f104-bc7a-4f4f-8f09-7244be682829\",                        [{\"mode\":\"markers\",\"x\":[102.27256772000038,94.26588858164129,87.1216077465382,88.01427048576699,102.84018022252033,103.17300784008224,78.23508194724113,138.09392429505948,114.51573421914227,120.65670443404102,119.02484088796925,108.41674866862205,89.67412663882669,131.194191232742,82.0738349663206,97.08304809358285,130.62816395258363,95.38802300037361,116.51752985686147,69.27720399521843,102.69233051344239,132.24708052568133,98.88451377087542,113.33014289608863,119.36313618021214,106.67751037362214,111.14846326779826,103.72509447813202,103.65207396822927,85.05169226861618,80.70722305277047,87.95001397850227,101.01658474364437,66.48124961316687,116.41850558590914,81.02337743699826,92.3909579916243,73.87590232414061,103.66512616511069,81.81235614056581,83.67602274004348,96.65949383297277,84.93574690438075,109.516571202219,94.48153991811897,92.60865171550881,53.57654811578936,97.73621583179958,92.55620826002541,103.10560099210545],\"y\":[84.41517340243925,94.28174072064064,66.36572729775646,83.5063995105489,108.93430054679015,102.24357903298251,80.9759287419188,138.33974025088764,107.05004177641892,114.48632131883335,97.23179727988682,129.35705835045087,89.5210369233997,131.55425477369752,90.35579719817841,92.2807485854368,133.83375852313384,79.81575038663127,123.90946535071747,70.89694603374251,102.74813213664403,132.10528391878455,103.93441095868076,99.29342544658763,115.38767656007838,89.26137478370471,105.09450298230209,104.07085925358692,89.63177820712477,82.1377544728991,65.28173023747175,70.75501828681718,101.61054297147633,63.34775134293846,124.91075602930856,88.65952203773178,76.88251402966054,90.4535173653613,83.94506710233638,79.48417831319875,82.28473731208983,106.83826776915762,73.21321892303834,83.40635204853223,84.05491992523368,88.27191608654486,52.689382979249174,99.04917891944001,106.39346205139168,114.29910579540373],\"type\":\"scatter\"},{\"x\":[52.689382979249174,138.33974025088764],\"y\":[52.689382979249174,138.33974025088764],\"type\":\"scatter\"}],                        {\"height\":500,\"showlegend\":false,\"title\":{\"text\":\"Regression results\"},\"width\":800,\"xaxis\":{\"title\":{\"text\":\"y_true\"}},\"yaxis\":{\"title\":{\"text\":\"y_pred\"}},\"template\":{\"data\":{\"bar\":[{\"error_x\":{\"color\":\"#2a3f5f\"},\"error_y\":{\"color\":\"#2a3f5f\"},\"marker\":{\"line\":{\"color\":\"#E5ECF6\",\"width\":0.5},\"pattern\":{\"fillmode\":\"overlay\",\"size\":10,\"solidity\":0.2}},\"type\":\"bar\"}],\"barpolar\":[{\"marker\":{\"line\":{\"color\":\"#E5ECF6\",\"width\":0.5},\"pattern\":{\"fillmode\":\"overlay\",\"size\":10,\"solidity\":0.2}},\"type\":\"barpolar\"}],\"carpet\":[{\"aaxis\":{\"endlinecolor\":\"#2a3f5f\",\"gridcolor\":\"white\",\"linecolor\":\"white\",\"minorgridcolor\":\"white\",\"startlinecolor\":\"#2a3f5f\"},\"baxis\":{\"endlinecolor\":\"#2a3f5f\",\"gridcolor\":\"white\",\"linecolor\":\"white\",\"minorgridcolor\":\"white\",\"startlinecolor\":\"#2a3f5f\"},\"type\":\"carpet\"}],\"choropleth\":[{\"colorbar\":{\"outlinewidth\":0,\"ticks\":\"\"},\"type\":\"choropleth\"}],\"contour\":[{\"colorbar\":{\"outlinewidth\":0,\"ticks\":\"\"},\"colorscale\":[[0.0,\"#0d0887\"],[0.1111111111111111,\"#46039f\"],[0.2222222222222222,\"#7201a8\"],[0.3333333333333333,\"#9c179e\"],[0.4444444444444444,\"#bd3786\"],[0.5555555555555556,\"#d8576b\"],[0.6666666666666666,\"#ed7953\"],[0.7777777777777778,\"#fb9f3a\"],[0.8888888888888888,\"#fdca26\"],[1.0,\"#f0f921\"]],\"type\":\"contour\"}],\"contourcarpet\":[{\"colorbar\":{\"outlinewidth\":0,\"ticks\":\"\"},\"type\":\"contourcarpet\"}],\"heatmap\":[{\"colorbar\":{\"outlinewidth\":0,\"ticks\":\"\"},\"colorscale\":[[0.0,\"#0d0887\"],[0.1111111111111111,\"#46039f\"],[0.2222222222222222,\"#7201a8\"],[0.3333333333333333,\"#9c179e\"],[0.4444444444444444,\"#bd3786\"],[0.5555555555555556,\"#d8576b\"],[0.6666666666666666,\"#ed7953\"],[0.7777777777777778,\"#fb9f3a\"],[0.8888888888888888,\"#fdca26\"],[1.0,\"#f0f921\"]],\"type\":\"heatmap\"}],\"heatmapgl\":[{\"colorbar\":{\"outlinewidth\":0,\"ticks\":\"\"},\"colorscale\":[[0.0,\"#0d0887\"],[0.1111111111111111,\"#46039f\"],[0.2222222222222222,\"#7201a8\"],[0.3333333333333333,\"#9c179e\"],[0.4444444444444444,\"#bd3786\"],[0.5555555555555556,\"#d8576b\"],[0.6666666666666666,\"#ed7953\"],[0.7777777777777778,\"#fb9f3a\"],[0.8888888888888888,\"#fdca26\"],[1.0,\"#f0f921\"]],\"type\":\"heatmapgl\"}],\"histogram\":[{\"marker\":{\"pattern\":{\"fillmode\":\"overlay\",\"size\":10,\"solidity\":0.2}},\"type\":\"histogram\"}],\"histogram2d\":[{\"colorbar\":{\"outlinewidth\":0,\"ticks\":\"\"},\"colorscale\":[[0.0,\"#0d0887\"],[0.1111111111111111,\"#46039f\"],[0.2222222222222222,\"#7201a8\"],[0.3333333333333333,\"#9c179e\"],[0.4444444444444444,\"#bd3786\"],[0.5555555555555556,\"#d8576b\"],[0.6666666666666666,\"#ed7953\"],[0.7777777777777778,\"#fb9f3a\"],[0.8888888888888888,\"#fdca26\"],[1.0,\"#f0f921\"]],\"type\":\"histogram2d\"}],\"histogram2dcontour\":[{\"colorbar\":{\"outlinewidth\":0,\"ticks\":\"\"},\"colorscale\":[[0.0,\"#0d0887\"],[0.1111111111111111,\"#46039f\"],[0.2222222222222222,\"#7201a8\"],[0.3333333333333333,\"#9c179e\"],[0.4444444444444444,\"#bd3786\"],[0.5555555555555556,\"#d8576b\"],[0.6666666666666666,\"#ed7953\"],[0.7777777777777778,\"#fb9f3a\"],[0.8888888888888888,\"#fdca26\"],[1.0,\"#f0f921\"]],\"type\":\"histogram2dcontour\"}],\"mesh3d\":[{\"colorbar\":{\"outlinewidth\":0,\"ticks\":\"\"},\"type\":\"mesh3d\"}],\"parcoords\":[{\"line\":{\"colorbar\":{\"outlinewidth\":0,\"ticks\":\"\"}},\"type\":\"parcoords\"}],\"pie\":[{\"automargin\":true,\"type\":\"pie\"}],\"scatter\":[{\"marker\":{\"colorbar\":{\"outlinewidth\":0,\"ticks\":\"\"}},\"type\":\"scatter\"}],\"scatter3d\":[{\"line\":{\"colorbar\":{\"outlinewidth\":0,\"ticks\":\"\"}},\"marker\":{\"colorbar\":{\"outlinewidth\":0,\"ticks\":\"\"}},\"type\":\"scatter3d\"}],\"scattercarpet\":[{\"marker\":{\"colorbar\":{\"outlinewidth\":0,\"ticks\":\"\"}},\"type\":\"scattercarpet\"}],\"scattergeo\":[{\"marker\":{\"colorbar\":{\"outlinewidth\":0,\"ticks\":\"\"}},\"type\":\"scattergeo\"}],\"scattergl\":[{\"marker\":{\"colorbar\":{\"outlinewidth\":0,\"ticks\":\"\"}},\"type\":\"scattergl\"}],\"scattermapbox\":[{\"marker\":{\"colorbar\":{\"outlinewidth\":0,\"ticks\":\"\"}},\"type\":\"scattermapbox\"}],\"scatterpolar\":[{\"marker\":{\"colorbar\":{\"outlinewidth\":0,\"ticks\":\"\"}},\"type\":\"scatterpolar\"}],\"scatterpolargl\":[{\"marker\":{\"colorbar\":{\"outlinewidth\":0,\"ticks\":\"\"}},\"type\":\"scatterpolargl\"}],\"scatterternary\":[{\"marker\":{\"colorbar\":{\"outlinewidth\":0,\"ticks\":\"\"}},\"type\":\"scatterternary\"}],\"surface\":[{\"colorbar\":{\"outlinewidth\":0,\"ticks\":\"\"},\"colorscale\":[[0.0,\"#0d0887\"],[0.1111111111111111,\"#46039f\"],[0.2222222222222222,\"#7201a8\"],[0.3333333333333333,\"#9c179e\"],[0.4444444444444444,\"#bd3786\"],[0.5555555555555556,\"#d8576b\"],[0.6666666666666666,\"#ed7953\"],[0.7777777777777778,\"#fb9f3a\"],[0.8888888888888888,\"#fdca26\"],[1.0,\"#f0f921\"]],\"type\":\"surface\"}],\"table\":[{\"cells\":{\"fill\":{\"color\":\"#EBF0F8\"},\"line\":{\"color\":\"white\"}},\"header\":{\"fill\":{\"color\":\"#C8D4E3\"},\"line\":{\"color\":\"white\"}},\"type\":\"table\"}]},\"layout\":{\"annotationdefaults\":{\"arrowcolor\":\"#2a3f5f\",\"arrowhead\":0,\"arrowwidth\":1},\"autotypenumbers\":\"strict\",\"coloraxis\":{\"colorbar\":{\"outlinewidth\":0,\"ticks\":\"\"}},\"colorscale\":{\"diverging\":[[0,\"#8e0152\"],[0.1,\"#c51b7d\"],[0.2,\"#de77ae\"],[0.3,\"#f1b6da\"],[0.4,\"#fde0ef\"],[0.5,\"#f7f7f7\"],[0.6,\"#e6f5d0\"],[0.7,\"#b8e186\"],[0.8,\"#7fbc41\"],[0.9,\"#4d9221\"],[1,\"#276419\"]],\"sequential\":[[0.0,\"#0d0887\"],[0.1111111111111111,\"#46039f\"],[0.2222222222222222,\"#7201a8\"],[0.3333333333333333,\"#9c179e\"],[0.4444444444444444,\"#bd3786\"],[0.5555555555555556,\"#d8576b\"],[0.6666666666666666,\"#ed7953\"],[0.7777777777777778,\"#fb9f3a\"],[0.8888888888888888,\"#fdca26\"],[1.0,\"#f0f921\"]],\"sequentialminus\":[[0.0,\"#0d0887\"],[0.1111111111111111,\"#46039f\"],[0.2222222222222222,\"#7201a8\"],[0.3333333333333333,\"#9c179e\"],[0.4444444444444444,\"#bd3786\"],[0.5555555555555556,\"#d8576b\"],[0.6666666666666666,\"#ed7953\"],[0.7777777777777778,\"#fb9f3a\"],[0.8888888888888888,\"#fdca26\"],[1.0,\"#f0f921\"]]},\"colorway\":[\"#636efa\",\"#EF553B\",\"#00cc96\",\"#ab63fa\",\"#FFA15A\",\"#19d3f3\",\"#FF6692\",\"#B6E880\",\"#FF97FF\",\"#FECB52\"],\"font\":{\"color\":\"#2a3f5f\"},\"geo\":{\"bgcolor\":\"white\",\"lakecolor\":\"white\",\"landcolor\":\"#E5ECF6\",\"showlakes\":true,\"showland\":true,\"subunitcolor\":\"white\"},\"hoverlabel\":{\"align\":\"left\"},\"hovermode\":\"closest\",\"mapbox\":{\"style\":\"light\"},\"paper_bgcolor\":\"white\",\"plot_bgcolor\":\"#E5ECF6\",\"polar\":{\"angularaxis\":{\"gridcolor\":\"white\",\"linecolor\":\"white\",\"ticks\":\"\"},\"bgcolor\":\"#E5ECF6\",\"radialaxis\":{\"gridcolor\":\"white\",\"linecolor\":\"white\",\"ticks\":\"\"}},\"scene\":{\"xaxis\":{\"backgroundcolor\":\"#E5ECF6\",\"gridcolor\":\"white\",\"gridwidth\":2,\"linecolor\":\"white\",\"showbackground\":true,\"ticks\":\"\",\"zerolinecolor\":\"white\"},\"yaxis\":{\"backgroundcolor\":\"#E5ECF6\",\"gridcolor\":\"white\",\"gridwidth\":2,\"linecolor\":\"white\",\"showbackground\":true,\"ticks\":\"\",\"zerolinecolor\":\"white\"},\"zaxis\":{\"backgroundcolor\":\"#E5ECF6\",\"gridcolor\":\"white\",\"gridwidth\":2,\"linecolor\":\"white\",\"showbackground\":true,\"ticks\":\"\",\"zerolinecolor\":\"white\"}},\"shapedefaults\":{\"line\":{\"color\":\"#2a3f5f\"}},\"ternary\":{\"aaxis\":{\"gridcolor\":\"white\",\"linecolor\":\"white\",\"ticks\":\"\"},\"baxis\":{\"gridcolor\":\"white\",\"linecolor\":\"white\",\"ticks\":\"\"},\"bgcolor\":\"#E5ECF6\",\"caxis\":{\"gridcolor\":\"white\",\"linecolor\":\"white\",\"ticks\":\"\"}},\"title\":{\"x\":0.05},\"xaxis\":{\"automargin\":true,\"gridcolor\":\"white\",\"linecolor\":\"white\",\"ticks\":\"\",\"title\":{\"standoff\":15},\"zerolinecolor\":\"white\",\"zerolinewidth\":2},\"yaxis\":{\"automargin\":true,\"gridcolor\":\"white\",\"linecolor\":\"white\",\"ticks\":\"\",\"title\":{\"standoff\":15},\"zerolinecolor\":\"white\",\"zerolinewidth\":2}}}},                        {\"responsive\": true}                    ).then(function(){\n",
              "                            \n",
              "var gd = document.getElementById('3e42f104-bc7a-4f4f-8f09-7244be682829');\n",
              "var x = new MutationObserver(function (mutations, observer) {{\n",
              "        var display = window.getComputedStyle(gd).display;\n",
              "        if (!display || display === 'none') {{\n",
              "            console.log([gd, 'removed!']);\n",
              "            Plotly.purge(gd);\n",
              "            observer.disconnect();\n",
              "        }}\n",
              "}});\n",
              "\n",
              "// Listen for the removal of the full notebook cells\n",
              "var notebookContainer = gd.closest('#notebook-container');\n",
              "if (notebookContainer) {{\n",
              "    x.observe(notebookContainer, {childList: true});\n",
              "}}\n",
              "\n",
              "// Listen for the clearing of the current output cell\n",
              "var outputEl = gd.closest('.output');\n",
              "if (outputEl) {{\n",
              "    x.observe(outputEl, {childList: true});\n",
              "}}\n",
              "\n",
              "                        })                };                            </script>        </div>\n",
              "</body>\n",
              "</html>"
            ]
          },
          "metadata": {}
        }
      ]
    },
    {
      "cell_type": "code",
      "source": [
        "y_true = 100 + 20 * np.random.randn(1000)\n",
        "y_pred = y_true + 10 * np.random.randn(1000)\n",
        "results = pd.DataFrame({'y_true': y_true, 'y_pred': y_pred})\n",
        "results['error'] = results['y_true'] - results['y_pred']\n",
        "\n",
        "px.histogram(results, x='error', nbins=50, width=800)"
      ],
      "metadata": {
        "colab": {
          "base_uri": "https://localhost:8080/",
          "height": 542
        },
        "id": "ZbmMgGrZvCNb",
        "outputId": "8f67dbfa-aa65-4179-d0be-32fb12102dd8"
      },
      "execution_count": 15,
      "outputs": [
        {
          "output_type": "display_data",
          "data": {
            "text/html": [
              "<html>\n",
              "<head><meta charset=\"utf-8\" /></head>\n",
              "<body>\n",
              "    <div>            <script src=\"https://cdnjs.cloudflare.com/ajax/libs/mathjax/2.7.5/MathJax.js?config=TeX-AMS-MML_SVG\"></script><script type=\"text/javascript\">if (window.MathJax) {MathJax.Hub.Config({SVG: {font: \"STIX-Web\"}});}</script>                <script type=\"text/javascript\">window.PlotlyConfig = {MathJaxConfig: 'local'};</script>\n",
              "        <script src=\"https://cdn.plot.ly/plotly-2.8.3.min.js\"></script>                <div id=\"5fc9978f-6ad0-4f81-82a4-f2d7c9e02c06\" class=\"plotly-graph-div\" style=\"height:525px; width:800px;\"></div>            <script type=\"text/javascript\">                                    window.PLOTLYENV=window.PLOTLYENV || {};                                    if (document.getElementById(\"5fc9978f-6ad0-4f81-82a4-f2d7c9e02c06\")) {                    Plotly.newPlot(                        \"5fc9978f-6ad0-4f81-82a4-f2d7c9e02c06\",                        [{\"alignmentgroup\":\"True\",\"bingroup\":\"x\",\"hovertemplate\":\"error=%{x}<br>count=%{y}<extra></extra>\",\"legendgroup\":\"\",\"marker\":{\"color\":\"#636efa\",\"pattern\":{\"shape\":\"\"}},\"name\":\"\",\"nbinsx\":50,\"offsetgroup\":\"\",\"orientation\":\"v\",\"showlegend\":false,\"x\":[-11.28843441324419,5.1738057742302175,4.365577356644948,-1.9576415570226544,-5.54093597252627,-3.2925481569804305,8.144814288446469,3.9033722939513638,1.8359670917206046,16.97070226020263,8.175899042117734,11.55959695715896,-6.803196840893449,-8.152730921224489,14.788190749889125,1.2042848976436318,5.205162138581315,-5.88158008177588,12.807224037668519,7.799565405300385,-6.14972100130062,-1.4663751083427314,6.224422232264658,-3.865117946139776,-4.510928663944767,13.608204266584352,-3.881792857752501,1.4928230501255229,5.3239820998084895,0.8769935170976453,-1.72440481471277,16.272812312664556,-5.02184143876552,14.096714973034466,-4.371241881076116,-9.422099193031457,-6.449164669886287,10.608864573170223,5.100249692226896,-3.343449766342772,7.192934240992031,9.931073279209485,14.70793699843982,-3.2872208539371144,6.969468029807089,8.843842267685801,4.152711298606064,19.548419684661155,-2.2671767724013137,0.002377562513856901,17.33785790149453,21.934291399541138,-2.0162123197702755,2.086078881015382,-11.026507761076289,9.722515355664058,1.519377561362191,-0.19820590528905768,19.499728208924708,4.965702504470499,0.6322694213648106,7.769069695483196,-0.23908077508527015,11.914115296970024,9.897749942043689,-16.90140029636416,3.1557823490082484,16.179523191049938,4.270286200646922,4.504038632701636,2.398808161119902,-3.7751536133502412,8.46809847977434,3.6413974845350765,13.314441557191827,-5.767471928284962,-7.152019768297372,-2.2759909736124797,4.504193184004265,5.256804652323424,-14.331115310854074,12.897659204853554,4.462152626880041,-3.0516159144575425,-2.7608437822511007,3.138271305638682,-3.0399363943221545,2.220655810062098,25.392144270680816,7.388059006007424,20.085836426405663,-3.753511036134441,16.43647041600488,-5.519120916694405,7.2531866133649885,2.005304904270716,3.4936556093789477,10.168098219704063,-0.4340802556186958,4.585782685348761,-7.659954676511404,5.436535996770104,8.636536631741421,26.349735181195854,-14.735886444661503,6.7446611595707395,14.147014385766582,-9.119346503657539,-2.482779313174291,-12.737749084562878,-0.033049429498689165,11.3160758926671,16.63275662250308,-11.875663030055492,-8.566030059558358,-8.570249530405789,-4.118891987904874,-14.362027490850721,-0.1127916451842026,2.0401380301806995,18.366028494418558,11.75625940604553,-1.748158882181869,5.108498464310088,-16.521716717254833,-10.808326752509814,14.546346665298671,-5.041645695446306,2.0187872221302854,5.659833955149715,4.963515535217553,-1.3460131433789684,7.441661449808613,-7.799264032902087,9.009883447283883,13.006709941764342,-1.0179888030413622,-2.3149079762589793,2.1896127526756715,5.683074573168128,3.7093193966680076,7.779317848579403,8.035332528101819,7.922849147386955,5.89156378456444,-3.515435377776413,-10.755317311427149,-2.3811138534951795,-5.721631939073205,4.631591500192528,-4.50141705104042,0.9315416681872364,-8.493653008041036,-14.307984641034707,16.109709287108146,18.446006219595503,-14.74585676658009,4.529199163471844,-11.48982274335718,2.954330292045853,-0.6736811096317297,-1.5279716766306493,4.046848905600825,-5.308852017339632,-6.469388195423193,5.086112409164613,11.625154629479255,3.134567580122294,-15.78431709280887,-2.882845522713076,5.704654353727747,-6.376673629249765,13.692265393388354,-1.9193928857584126,-3.560254577636144,7.381340561894859,3.3043065526215685,4.896435884672783,-6.054794816040953,-6.149621469220108,-0.583134265503304,1.9419662695827213,-12.8696897205172,0.46084876865765523,12.049899654596565,0.826980406112952,-11.116771202445662,-1.4384149354294493,-3.2041769419487593,-6.146421631769556,-13.839637817170015,10.408908894419014,-5.911644985807186,12.080277663983537,8.79123699414221,-5.5685603870049505,3.780958394151668,-6.954446548091781,1.8888177320967543,-11.935064983000402,11.694152432308229,-7.030172593083677,-10.553602801794057,12.07349343635039,-12.561483066674853,13.677958199484024,-0.22497396558310356,4.792622007830261,8.422760494742334,2.9550817369542273,-8.874620826932968,1.6473613376355587,-9.371826473695435,-13.41825833470223,-1.9488585847356745,-7.170610776411976,-0.3552421623501232,4.251394864996925,11.324060214008085,-12.373868169625652,-4.048706766014277,-10.933115451315885,3.0437908006258425,0.9443880872910171,-9.768413197769505,4.363097489904277,-2.0447665051176642,-8.345281546511302,-6.406705883986859,-4.150211904448881,-0.04554444298673843,-13.44827385241723,7.727288888378951,-17.711443716712637,-10.532442463588879,1.2550592834646892,0.8777199726458917,-4.240903495867855,-13.321294153895707,-4.48373857730931,7.220415322720314,9.534104255546723,14.61446022681963,9.170296679858865,3.1545406801531186,-20.034526545494032,-1.436302837415397,-13.947600461287237,-15.012414268083205,-1.7319778005793864,1.523618104535558,-1.6437164334700043,-2.3595891608132717,1.8747806832892735,-2.193458680713121,-0.5616212338051128,10.435432737916813,4.053900309163893,5.1095804804176055,16.047545187211796,-7.006528764055773,13.049166764814032,-1.4454618605739569,-1.1888935417203754,14.704549150169186,-2.9127974287760168,-3.4643970682705145,-9.146709956842884,-1.8741036816109329,-7.895893401487882,-28.54586841600809,-9.775300031708724,-13.277805466543342,-7.500543987371557,-7.773423249763269,5.46577757076399,-34.913136764356324,-2.960951896002385,11.341951877352614,0.3587679323127304,8.670397766061853,0.4567336170962477,6.633741418436401,9.751470990774862,-4.932034619625796,-2.292573947694393,-2.9357058222713732,13.663078058539796,5.609065002940127,23.52230558749237,14.004242155608082,6.037597783969673,-4.241212531482375,-10.130753111309332,-11.089372272739524,13.215395664447968,8.3738422862439,15.593349689814417,-12.334952863950043,29.25971793706656,-8.05772104052852,6.489647009225351,7.876071403151755,7.924679892930186,6.7001826776358655,-9.378187429412876,-17.735821235703426,11.701229771482197,3.045618117636664,-9.531783066165147,3.863593835395065,-6.184016380686231,-7.245716758889785,26.388847830389224,3.392507838725166,-7.692549452246595,8.399284665038664,-7.877489172265427,-5.86042770519596,-12.13443302922063,-2.88804366206638,-11.661782826493152,12.38982238155316,6.0580091842223,7.095767239360427,24.336341708422992,3.919368596379101,6.74517455452721,5.724133527782641,3.1343768284772295,18.29114602670785,1.1972113152767463,0.6976275831245715,-1.5743863346472438,3.6467057819612307,-1.7917126883080385,-1.5493859864362491,-10.903582120063191,-6.916805959959305,-3.803886795720075,-5.186827200727393,-4.757407704612376,0.779360879320123,2.214140217545463,0.6158395111287973,-5.016720620308945,-1.2001663798629494,23.594267267442362,2.527569309849767,5.663574669577315,-8.748605408263458,-3.5617834822909202,-2.334509754016821,-7.622023568900829,10.370485815916709,-6.636787124407675,-10.238632190616443,-9.771427160783418,-1.5813904616845633,-4.648561372332466,11.34180582133478,1.7444174224848865,2.9863834791855055,-2.1472415562301137,-0.5817742730469746,2.3213891457081246,8.195871299352532,0.0818581802345335,13.996557347081051,17.728138954361924,15.460410598894697,16.393177520846578,1.211533554393327,24.24275131727653,14.37285492907344,-13.399861238776197,4.266785740405837,0.49273223516539133,6.935988361956134,-8.55172212250271,4.746932217243781,-22.528035537432004,-20.72101025463553,-0.45463164994878014,2.543732334148764,12.373887118343262,11.868950319856225,19.358384321746954,-1.8993180895823656,-5.42076607269459,-5.808444348785386,9.171845361890178,-0.5121050400364737,16.178467836774857,3.5829235970387003,8.566229683604035,12.281457798319323,-20.420945206395444,3.626043810090863,-4.104946259168955,9.0832885893048,9.9872246580749,8.89517236648318,-4.195913682072785,3.9756251415613093,0.5322087019217463,6.394970128636757,20.454239058152112,-0.22106161064220942,5.507464813867557,-3.699927438479847,3.920630270443908,-13.199122180892914,-13.984557546076786,-15.354879952276029,-11.663387106399796,8.037910488276253,1.958295591562333,-4.853617015872771,12.085111851880782,-6.3094414446316875,-0.3771310571212325,5.748648981676496,-8.85366364517796,-2.2553059680315286,14.699477535652647,1.818887195456952,13.547794419643935,-9.08051195319429,-4.813880315078762,-5.28642332134288,-6.789065549373319,11.184878282004306,-19.215067246835247,15.77993858786472,-7.592066547220099,-7.851090905868489,-0.5186957346879808,-0.42068917377116577,-7.408158299995648,-11.065400517134847,9.67777356268816,4.992286612091277,14.395005340988774,3.9526737052369327,-2.6795418350682425,10.63047646631513,-1.5796275174702714,18.944354599643134,2.4014629241764567,4.638769721301216,14.96002374193256,19.597099148673763,5.2020545197324,-9.874143235601338,-10.278372773376091,4.936198155647034,8.114714352029111,4.604396894343935,0.6562864331687308,-23.128636564722783,-12.963204708136175,-10.354014472046131,-7.436022026097476,-5.543936189975113,-2.8971623081916107,1.1753562361624859,-15.408063115560026,-12.773399796647197,10.096832745052026,-1.262877790539136,13.306822458318777,1.9076478615628787,7.430825969257839,-2.8476472570049367,5.160739940393356,2.800063186191551,0.5593587822096424,7.768622965477306,-4.207295841732645,-2.1609589545700203,16.521303018922218,19.113780020849248,4.006863990531855,-4.300758992035881,13.35099157401936,-3.8861677169414293,-22.991965311794303,-0.7137307647326878,0.7834701840890688,-19.03941628056222,-10.146801566971618,-8.50717856058455,-14.86386746842544,-1.1503454702987597,-17.627850262314254,2.9726895254469383,-5.123035615044941,-10.86151735922732,-16.039495240829737,14.889498443647867,-3.9836779979898296,6.15832549849091,-10.003292956861799,5.797783184541004,17.340264567058043,-20.13047020551832,-15.826635376636673,6.983332327357758,0.593846795170748,18.448764408298516,-15.878766984400727,-6.926285532503272,19.394821004770137,2.437692612212686,-17.949528513074,14.82536480701981,-11.510751468994641,4.957051791587105,-4.654814620348205,1.1545966609496787,14.439340052954918,0.5225905574176863,5.338686669916612,21.141362512580812,6.537690935262233,1.781181938315484,2.4820719483879685,-17.63899215677378,9.18473010413095,-17.101024907628855,-11.777877036155232,7.251346704100754,-3.1915755790872566,34.48924619129842,1.032243565501318,12.373567891504592,9.235054008282333,1.1783540956797935,10.073708836272758,-14.498756184372098,-5.933746795707762,1.4819383626703342,-30.903512434767677,1.1349011033960892,-2.9242469748965902,4.6473196885459345,13.483042156558213,5.1394904660503755,-3.7238578712232453,4.490331494470084,12.568448452639899,2.3130611140466613,0.8756061582758434,22.17719894905636,-6.591927369054275,-3.747483409839589,-15.498054894565755,2.6517060485142707,-0.6142737631165573,0.10398067005515088,2.652817970514178,-1.125073860205788,12.230226466862973,-14.023293487888168,2.563081216004946,7.4310304089775485,3.600999593823488,10.269672946107747,-10.234321821995138,10.774405041714502,-9.594515449224318,-2.0436697708378233,0.0959988579355695,7.915949183968678,2.7338845179102123,-2.3305988449046,-21.39934659887608,0.3996551916667386,16.995063901279906,1.3097040861201066,-10.571220291983877,2.776593743925872,-1.7114208254409817,-11.030370535801197,-2.8566276141281577,-14.801437043129539,-3.123778679527078,8.589502439602242,18.61573858969929,-4.62533675937199,-7.944121693264336,-9.903051086437529,3.5258687116828042,10.418269658846327,12.639277920823787,5.1803414856942425,14.66304287417428,-15.339979466633253,20.940674370816197,10.354146863762168,12.384043271086682,-23.672036843485557,14.284897033886764,6.041469427194514,9.812274849252205,-4.104043872387365,-1.5410477412704608,2.2984083629463044,-3.5639108880149166,-9.95467254182411,4.236580656131878,-8.698079955839958,26.534449271540666,-7.898442308253934,9.014378462650527,2.201409134367424,-2.8897918734458727,9.485835224929815,-5.324271802130269,0.4344307799545106,-14.553174638015491,0.3005529999382759,-6.434729102814941,16.44203499254202,9.993259121622998,-0.06968425908348763,-2.4246877731663687,-7.377800748221503,-1.1284213189632055,5.5223347646361844,5.436889592208004,-9.251739881534021,9.471226797141583,0.9170046813488426,10.872718721899858,-7.203238411643241,6.6704336433228235,11.125849703526768,-9.496180641300285,-10.17545445113629,1.9887162053175018,8.282423953854675,15.099005793429924,-3.2543224506319177,1.167583371038063,-10.828889809220598,-7.203880669343675,-1.1753650084260698,-13.696734282453875,-5.155243257171634,0.5550681403120876,6.707849033300306,14.019107736570476,-7.158529751112667,-10.94958307196515,-13.065963458037132,-11.153098213911719,-3.97668670916768,-11.899313357923774,-4.1841986786456005,4.448173633202174,-3.440049875278774,-0.5979011316847362,-1.0183438872020787,23.554183201068597,-6.343743357942827,8.078591719406461,-8.946574390500672,-1.8654996338355687,17.176989470525754,4.15976714095963,4.1371357497901045,9.039360489483443,15.631927786393817,5.458615674444999,1.3167428485842692,-19.550281905940253,-12.023324334015427,4.95735989599558,4.71603436426652,4.761705224632735,-3.111496455435187,-9.206633494297023,-8.5506897818248,-18.67320686361296,10.019027428138521,-13.373571004667255,14.250863186447646,-6.950816555303959,5.102580869227978,10.602087237417777,10.043240991979644,26.00858147420969,10.348338516448408,-4.65828484617316,1.8964437471519204,4.5664643700957726,-10.610438875779664,-8.48500673238668,-0.0035610643831773814,2.76911719009442,6.581551576294288,-5.467724484194818,-5.151055214904687,1.5113984460374468,2.4752596382746788,7.713569696919805,1.2382717483625072,10.510986213912958,-18.922341450249988,-1.1904707080248471,-3.524443388661524,2.3893519277733475,1.4064049772489398,-8.624366234053312,3.9256046403839235,8.121723932105212,-8.633135275814908,-0.8570647965802607,4.165940483581949,6.146618333895802,-2.5627142758071955,7.175330667627222,-1.4631966852313525,-6.485253534667564,10.631823158520014,5.546270312436164,-21.792102019564055,-16.846461291235407,-13.36821303610455,10.682769592030496,15.471914780378924,9.190891746349493,9.675939003217607,-0.23240879952643922,-4.582693664117556,2.4719349115280664,-4.3906109893656975,-2.6134382732359,-9.404752110668454,-7.573693940326038,0.027327937905042177,-7.8430600677217654,-0.2378211109558208,-13.13852895039986,-10.778339257951842,-4.617544209517661,19.760461730743586,-2.1431634987739727,-17.25269392916192,-1.5396273175661008,3.430088433948626,6.8369142982980975,3.7275709124568834,-0.32356838103663677,6.022300701114617,-9.139688371126141,-11.471618670516989,2.321343054942659,3.3246326518218012,10.558819628459531,-3.6107639400509584,-12.033500246636962,-0.9528015869417459,-7.7035624365181405,-2.965117358692936,6.608865733520517,12.198837569774398,-11.146625114383667,15.145247677138983,7.286284896123448,9.601237637269136,13.452769875184075,5.673229051156881,-3.682609754697154,-0.835745952095607,-0.2322190467665166,1.2855930131438669,-2.992220338681342,7.484814633381163,-4.442903098892643,6.048490585831203,8.493601466588771,-6.573555342352229,10.665229898701952,-4.600538793890266,5.005417418917787,-6.363786669918724,-7.471911127484589,10.728373270507007,15.818732957964997,3.011765551103366,-26.449859169579454,10.260787672380843,11.663370062734415,1.1288701303366793,5.008213521481622,8.418237053335446,15.409662410599225,0.9383553620203173,-1.9589556149090868,-21.68040748808383,-18.31238924807758,-0.13413936348663924,9.66512457714397,-1.3873176831759793,-6.86912107090555,-8.097065491705337,2.4975018566631775,14.447941202349782,0.7169769034972404,-0.9934404657493161,1.0991337332096833,3.6462383383587422,20.955392634887723,4.718370822674515,0.9444455942871741,-7.0630616265969195,-0.894035755266188,3.335866076525974,-4.471442614836818,6.026812551539464,4.752653531810992,-11.845812560029458,1.5478379244861458,6.773613361312471,1.4942898715832627,0.6956262979266938,9.130119496062619,3.8176212611854083,6.7800997422480265,1.1124868179225587,5.665253613366957,-1.3760491674009785,1.520969728700564,7.745016086722956,1.8513481441042927,-10.693594685330467,17.06811838589219,5.977414783306415,5.0609575961820354,-6.912737215555737,15.945586507706636,-9.335445931403981,-4.4605023104235215,24.148928361828922,12.893745502723476,-9.060117392289555,4.944491242760762,-13.766236625098898,4.898393040798595,-1.8282872368335035,2.8077519223258633,-19.858973607478234,16.894594699662463,11.41514011491995,5.716228293412826,-2.7376726598938177,9.968289106051998,-7.903261870186157,-1.6712259788909876,-9.77895103509951,-3.186673375402208,-23.353185606694055,12.033079015402109,-0.9584314211697489,14.238255964759176,3.376799527364767,7.784880462199212,-0.5215183070972671,11.348091521720434,10.276656308155921,-0.5380904558847419,-5.375772057750311,-4.825681062142863,-2.0908671506038985,12.102543473535903,0.26095078171131547,3.3844451500391273,6.6555477897927915,-14.71456942570569,14.51841313011306,13.248628117254825,-7.675083112389089,33.84002397868312,6.661433542207206,0.6824843226616082,11.771222461273801,10.61059984352444,-1.3708705552536742,9.6324786666882,10.219648824966782,-10.109438836216185,6.222777046316139,-11.82253924810081,1.1118174566344123,-8.774464377175534,-0.42830925382799023,-2.9405395991547465,18.096810303165014,-9.871220620790183,4.998651536666856,11.385798176984324,-5.818449156426155,-11.28443805353649,-16.51955280776653,14.460685094340405,-0.6126628859457384,-10.052085587940013,-5.070357054781326,-14.621504984043355,9.251832076424307,-3.1794337300835167,1.6045355187188477,12.39538745236652,-5.809786478282945,-1.6452762849337148,-8.073591039814247,-0.5810112842014519,-1.8183805692871857,7.681521582405821,17.317781480826454,-1.5089863760819213,22.102074528203197,9.847233097748457,10.02915436361964,-4.910138270387236,3.3716967627663905,-4.412180507698579,-1.9752853187643922,32.933525868532115,5.947123677863729,-4.083677767313901,-2.3824800336567193,16.054137561893313,5.300729913743936,6.400676515917482,-1.1358101245922398,-6.729672098598286,7.474742376663883,-14.8007679067954,1.3721484146364986,-12.37466016514395,-2.9904807152883848,-14.66329966012566,11.479338518030474,5.872320796901192,2.9563782881960776,-11.423670950935858,-8.410802002591595,7.2871050976499205,3.2318867754059255,-8.865238169950246,-8.118027486656757,-6.338726117893913,-5.063342907013791,-5.588775158407543,22.238502283745532,-5.1575370533357585,-10.402085075957501,2.3932822044551614,-2.929992894217861,-2.476114174337951,-1.2098749252899523,9.687240935359256,8.328783660743234,6.5408099207283215,4.195410201291864,7.863559115413011,0.4666369635775851,-4.023422833176369,-5.622115650032626,-8.515717804194168,6.975443952890899,-9.145348446612672,13.699088769256988,-11.587939061774904,-2.2328678864214737,1.0674798002364128,18.179984725587673,-7.9713478738744925,4.502205813094648,19.533128748517754,5.840925848104092,-1.035017954633446,-4.8041153099777745,6.8341293764952695,-0.3665182970175067,-2.503668104421365,0.2729266140471225,-23.829533209705204,14.309574163662191,5.818638337026826,-1.3794183626281722,1.8896978314654334,11.19559490066645,4.2222049991847115,-2.6081129737578266,-4.758030347828736],\"xaxis\":\"x\",\"yaxis\":\"y\",\"type\":\"histogram\"}],                        {\"template\":{\"data\":{\"bar\":[{\"error_x\":{\"color\":\"#2a3f5f\"},\"error_y\":{\"color\":\"#2a3f5f\"},\"marker\":{\"line\":{\"color\":\"#E5ECF6\",\"width\":0.5},\"pattern\":{\"fillmode\":\"overlay\",\"size\":10,\"solidity\":0.2}},\"type\":\"bar\"}],\"barpolar\":[{\"marker\":{\"line\":{\"color\":\"#E5ECF6\",\"width\":0.5},\"pattern\":{\"fillmode\":\"overlay\",\"size\":10,\"solidity\":0.2}},\"type\":\"barpolar\"}],\"carpet\":[{\"aaxis\":{\"endlinecolor\":\"#2a3f5f\",\"gridcolor\":\"white\",\"linecolor\":\"white\",\"minorgridcolor\":\"white\",\"startlinecolor\":\"#2a3f5f\"},\"baxis\":{\"endlinecolor\":\"#2a3f5f\",\"gridcolor\":\"white\",\"linecolor\":\"white\",\"minorgridcolor\":\"white\",\"startlinecolor\":\"#2a3f5f\"},\"type\":\"carpet\"}],\"choropleth\":[{\"colorbar\":{\"outlinewidth\":0,\"ticks\":\"\"},\"type\":\"choropleth\"}],\"contour\":[{\"colorbar\":{\"outlinewidth\":0,\"ticks\":\"\"},\"colorscale\":[[0.0,\"#0d0887\"],[0.1111111111111111,\"#46039f\"],[0.2222222222222222,\"#7201a8\"],[0.3333333333333333,\"#9c179e\"],[0.4444444444444444,\"#bd3786\"],[0.5555555555555556,\"#d8576b\"],[0.6666666666666666,\"#ed7953\"],[0.7777777777777778,\"#fb9f3a\"],[0.8888888888888888,\"#fdca26\"],[1.0,\"#f0f921\"]],\"type\":\"contour\"}],\"contourcarpet\":[{\"colorbar\":{\"outlinewidth\":0,\"ticks\":\"\"},\"type\":\"contourcarpet\"}],\"heatmap\":[{\"colorbar\":{\"outlinewidth\":0,\"ticks\":\"\"},\"colorscale\":[[0.0,\"#0d0887\"],[0.1111111111111111,\"#46039f\"],[0.2222222222222222,\"#7201a8\"],[0.3333333333333333,\"#9c179e\"],[0.4444444444444444,\"#bd3786\"],[0.5555555555555556,\"#d8576b\"],[0.6666666666666666,\"#ed7953\"],[0.7777777777777778,\"#fb9f3a\"],[0.8888888888888888,\"#fdca26\"],[1.0,\"#f0f921\"]],\"type\":\"heatmap\"}],\"heatmapgl\":[{\"colorbar\":{\"outlinewidth\":0,\"ticks\":\"\"},\"colorscale\":[[0.0,\"#0d0887\"],[0.1111111111111111,\"#46039f\"],[0.2222222222222222,\"#7201a8\"],[0.3333333333333333,\"#9c179e\"],[0.4444444444444444,\"#bd3786\"],[0.5555555555555556,\"#d8576b\"],[0.6666666666666666,\"#ed7953\"],[0.7777777777777778,\"#fb9f3a\"],[0.8888888888888888,\"#fdca26\"],[1.0,\"#f0f921\"]],\"type\":\"heatmapgl\"}],\"histogram\":[{\"marker\":{\"pattern\":{\"fillmode\":\"overlay\",\"size\":10,\"solidity\":0.2}},\"type\":\"histogram\"}],\"histogram2d\":[{\"colorbar\":{\"outlinewidth\":0,\"ticks\":\"\"},\"colorscale\":[[0.0,\"#0d0887\"],[0.1111111111111111,\"#46039f\"],[0.2222222222222222,\"#7201a8\"],[0.3333333333333333,\"#9c179e\"],[0.4444444444444444,\"#bd3786\"],[0.5555555555555556,\"#d8576b\"],[0.6666666666666666,\"#ed7953\"],[0.7777777777777778,\"#fb9f3a\"],[0.8888888888888888,\"#fdca26\"],[1.0,\"#f0f921\"]],\"type\":\"histogram2d\"}],\"histogram2dcontour\":[{\"colorbar\":{\"outlinewidth\":0,\"ticks\":\"\"},\"colorscale\":[[0.0,\"#0d0887\"],[0.1111111111111111,\"#46039f\"],[0.2222222222222222,\"#7201a8\"],[0.3333333333333333,\"#9c179e\"],[0.4444444444444444,\"#bd3786\"],[0.5555555555555556,\"#d8576b\"],[0.6666666666666666,\"#ed7953\"],[0.7777777777777778,\"#fb9f3a\"],[0.8888888888888888,\"#fdca26\"],[1.0,\"#f0f921\"]],\"type\":\"histogram2dcontour\"}],\"mesh3d\":[{\"colorbar\":{\"outlinewidth\":0,\"ticks\":\"\"},\"type\":\"mesh3d\"}],\"parcoords\":[{\"line\":{\"colorbar\":{\"outlinewidth\":0,\"ticks\":\"\"}},\"type\":\"parcoords\"}],\"pie\":[{\"automargin\":true,\"type\":\"pie\"}],\"scatter\":[{\"marker\":{\"colorbar\":{\"outlinewidth\":0,\"ticks\":\"\"}},\"type\":\"scatter\"}],\"scatter3d\":[{\"line\":{\"colorbar\":{\"outlinewidth\":0,\"ticks\":\"\"}},\"marker\":{\"colorbar\":{\"outlinewidth\":0,\"ticks\":\"\"}},\"type\":\"scatter3d\"}],\"scattercarpet\":[{\"marker\":{\"colorbar\":{\"outlinewidth\":0,\"ticks\":\"\"}},\"type\":\"scattercarpet\"}],\"scattergeo\":[{\"marker\":{\"colorbar\":{\"outlinewidth\":0,\"ticks\":\"\"}},\"type\":\"scattergeo\"}],\"scattergl\":[{\"marker\":{\"colorbar\":{\"outlinewidth\":0,\"ticks\":\"\"}},\"type\":\"scattergl\"}],\"scattermapbox\":[{\"marker\":{\"colorbar\":{\"outlinewidth\":0,\"ticks\":\"\"}},\"type\":\"scattermapbox\"}],\"scatterpolar\":[{\"marker\":{\"colorbar\":{\"outlinewidth\":0,\"ticks\":\"\"}},\"type\":\"scatterpolar\"}],\"scatterpolargl\":[{\"marker\":{\"colorbar\":{\"outlinewidth\":0,\"ticks\":\"\"}},\"type\":\"scatterpolargl\"}],\"scatterternary\":[{\"marker\":{\"colorbar\":{\"outlinewidth\":0,\"ticks\":\"\"}},\"type\":\"scatterternary\"}],\"surface\":[{\"colorbar\":{\"outlinewidth\":0,\"ticks\":\"\"},\"colorscale\":[[0.0,\"#0d0887\"],[0.1111111111111111,\"#46039f\"],[0.2222222222222222,\"#7201a8\"],[0.3333333333333333,\"#9c179e\"],[0.4444444444444444,\"#bd3786\"],[0.5555555555555556,\"#d8576b\"],[0.6666666666666666,\"#ed7953\"],[0.7777777777777778,\"#fb9f3a\"],[0.8888888888888888,\"#fdca26\"],[1.0,\"#f0f921\"]],\"type\":\"surface\"}],\"table\":[{\"cells\":{\"fill\":{\"color\":\"#EBF0F8\"},\"line\":{\"color\":\"white\"}},\"header\":{\"fill\":{\"color\":\"#C8D4E3\"},\"line\":{\"color\":\"white\"}},\"type\":\"table\"}]},\"layout\":{\"annotationdefaults\":{\"arrowcolor\":\"#2a3f5f\",\"arrowhead\":0,\"arrowwidth\":1},\"autotypenumbers\":\"strict\",\"coloraxis\":{\"colorbar\":{\"outlinewidth\":0,\"ticks\":\"\"}},\"colorscale\":{\"diverging\":[[0,\"#8e0152\"],[0.1,\"#c51b7d\"],[0.2,\"#de77ae\"],[0.3,\"#f1b6da\"],[0.4,\"#fde0ef\"],[0.5,\"#f7f7f7\"],[0.6,\"#e6f5d0\"],[0.7,\"#b8e186\"],[0.8,\"#7fbc41\"],[0.9,\"#4d9221\"],[1,\"#276419\"]],\"sequential\":[[0.0,\"#0d0887\"],[0.1111111111111111,\"#46039f\"],[0.2222222222222222,\"#7201a8\"],[0.3333333333333333,\"#9c179e\"],[0.4444444444444444,\"#bd3786\"],[0.5555555555555556,\"#d8576b\"],[0.6666666666666666,\"#ed7953\"],[0.7777777777777778,\"#fb9f3a\"],[0.8888888888888888,\"#fdca26\"],[1.0,\"#f0f921\"]],\"sequentialminus\":[[0.0,\"#0d0887\"],[0.1111111111111111,\"#46039f\"],[0.2222222222222222,\"#7201a8\"],[0.3333333333333333,\"#9c179e\"],[0.4444444444444444,\"#bd3786\"],[0.5555555555555556,\"#d8576b\"],[0.6666666666666666,\"#ed7953\"],[0.7777777777777778,\"#fb9f3a\"],[0.8888888888888888,\"#fdca26\"],[1.0,\"#f0f921\"]]},\"colorway\":[\"#636efa\",\"#EF553B\",\"#00cc96\",\"#ab63fa\",\"#FFA15A\",\"#19d3f3\",\"#FF6692\",\"#B6E880\",\"#FF97FF\",\"#FECB52\"],\"font\":{\"color\":\"#2a3f5f\"},\"geo\":{\"bgcolor\":\"white\",\"lakecolor\":\"white\",\"landcolor\":\"#E5ECF6\",\"showlakes\":true,\"showland\":true,\"subunitcolor\":\"white\"},\"hoverlabel\":{\"align\":\"left\"},\"hovermode\":\"closest\",\"mapbox\":{\"style\":\"light\"},\"paper_bgcolor\":\"white\",\"plot_bgcolor\":\"#E5ECF6\",\"polar\":{\"angularaxis\":{\"gridcolor\":\"white\",\"linecolor\":\"white\",\"ticks\":\"\"},\"bgcolor\":\"#E5ECF6\",\"radialaxis\":{\"gridcolor\":\"white\",\"linecolor\":\"white\",\"ticks\":\"\"}},\"scene\":{\"xaxis\":{\"backgroundcolor\":\"#E5ECF6\",\"gridcolor\":\"white\",\"gridwidth\":2,\"linecolor\":\"white\",\"showbackground\":true,\"ticks\":\"\",\"zerolinecolor\":\"white\"},\"yaxis\":{\"backgroundcolor\":\"#E5ECF6\",\"gridcolor\":\"white\",\"gridwidth\":2,\"linecolor\":\"white\",\"showbackground\":true,\"ticks\":\"\",\"zerolinecolor\":\"white\"},\"zaxis\":{\"backgroundcolor\":\"#E5ECF6\",\"gridcolor\":\"white\",\"gridwidth\":2,\"linecolor\":\"white\",\"showbackground\":true,\"ticks\":\"\",\"zerolinecolor\":\"white\"}},\"shapedefaults\":{\"line\":{\"color\":\"#2a3f5f\"}},\"ternary\":{\"aaxis\":{\"gridcolor\":\"white\",\"linecolor\":\"white\",\"ticks\":\"\"},\"baxis\":{\"gridcolor\":\"white\",\"linecolor\":\"white\",\"ticks\":\"\"},\"bgcolor\":\"#E5ECF6\",\"caxis\":{\"gridcolor\":\"white\",\"linecolor\":\"white\",\"ticks\":\"\"}},\"title\":{\"x\":0.05},\"xaxis\":{\"automargin\":true,\"gridcolor\":\"white\",\"linecolor\":\"white\",\"ticks\":\"\",\"title\":{\"standoff\":15},\"zerolinecolor\":\"white\",\"zerolinewidth\":2},\"yaxis\":{\"automargin\":true,\"gridcolor\":\"white\",\"linecolor\":\"white\",\"ticks\":\"\",\"title\":{\"standoff\":15},\"zerolinecolor\":\"white\",\"zerolinewidth\":2}}},\"xaxis\":{\"anchor\":\"y\",\"domain\":[0.0,1.0],\"title\":{\"text\":\"error\"}},\"yaxis\":{\"anchor\":\"x\",\"domain\":[0.0,1.0],\"title\":{\"text\":\"count\"}},\"legend\":{\"tracegroupgap\":0},\"margin\":{\"t\":60},\"barmode\":\"relative\",\"width\":800},                        {\"responsive\": true}                    ).then(function(){\n",
              "                            \n",
              "var gd = document.getElementById('5fc9978f-6ad0-4f81-82a4-f2d7c9e02c06');\n",
              "var x = new MutationObserver(function (mutations, observer) {{\n",
              "        var display = window.getComputedStyle(gd).display;\n",
              "        if (!display || display === 'none') {{\n",
              "            console.log([gd, 'removed!']);\n",
              "            Plotly.purge(gd);\n",
              "            observer.disconnect();\n",
              "        }}\n",
              "}});\n",
              "\n",
              "// Listen for the removal of the full notebook cells\n",
              "var notebookContainer = gd.closest('#notebook-container');\n",
              "if (notebookContainer) {{\n",
              "    x.observe(notebookContainer, {childList: true});\n",
              "}}\n",
              "\n",
              "// Listen for the clearing of the current output cell\n",
              "var outputEl = gd.closest('.output');\n",
              "if (outputEl) {{\n",
              "    x.observe(outputEl, {childList: true});\n",
              "}}\n",
              "\n",
              "                        })                };                            </script>        </div>\n",
              "</body>\n",
              "</html>"
            ]
          },
          "metadata": {}
        }
      ]
    },
    {
      "cell_type": "code",
      "source": [],
      "metadata": {
        "id": "45eRltxwvUTJ"
      },
      "execution_count": null,
      "outputs": []
    },
    {
      "cell_type": "markdown",
      "metadata": {
        "id": "ZVr1O1j3FFiM"
      },
      "source": [
        "### <a name='a3'></a> Mean Absolute Error - Średni błąd bezwzględny\n",
        "### $$MAE = \\frac{1}{n}\\sum_{i=1}^{n}|y_{true} - y_{pred}|$$"
      ]
    },
    {
      "cell_type": "code",
      "source": [
        "def mean_absolute_error(y_true, y_pred):\n",
        "  return abs(y_true-y_pred).sum()/len(y_true)\n",
        "\n",
        "mean_absolute_error(y_true, y_pred)"
      ],
      "metadata": {
        "colab": {
          "base_uri": "https://localhost:8080/"
        },
        "id": "jjirLE2rwvix",
        "outputId": "8c47a2e0-152c-45b8-b9c6-dd126b827f59"
      },
      "execution_count": 17,
      "outputs": [
        {
          "output_type": "execute_result",
          "data": {
            "text/plain": [
              "7.753328469546394"
            ]
          },
          "metadata": {},
          "execution_count": 17
        }
      ]
    },
    {
      "cell_type": "code",
      "source": [
        "from sklearn.metrics import mean_absolute_error\n",
        "mean_absolute_error(y_true, y_pred)"
      ],
      "metadata": {
        "colab": {
          "base_uri": "https://localhost:8080/"
        },
        "id": "H_4E67FhxFPg",
        "outputId": "aa7a3321-d9a3-43be-a31c-7e578c8effb7"
      },
      "execution_count": 18,
      "outputs": [
        {
          "output_type": "execute_result",
          "data": {
            "text/plain": [
              "7.753328469546394"
            ]
          },
          "metadata": {},
          "execution_count": 18
        }
      ]
    },
    {
      "cell_type": "markdown",
      "metadata": {
        "id": "dbAtacGCGjaR"
      },
      "source": [
        "### <a name='a4'></a> Mean Squared Error - MSE - Błąd średniokwadratowy\n",
        "### $$MSE = \\frac{1}{n}\\sum_{i=1}^{n}(y_{true} - y_{pred})^{2}$$"
      ]
    },
    {
      "cell_type": "code",
      "source": [
        "def mean_squared_error(y_true, y_pred):\n",
        "  return abs((y_true-y_pred) ** 2).sum()/len(y_true)\n",
        "\n",
        "mean_squared_error(y_true, y_pred)"
      ],
      "metadata": {
        "colab": {
          "base_uri": "https://localhost:8080/"
        },
        "id": "N-WvkLUcxPB_",
        "outputId": "18137698-d9b9-4f4a-ec2c-b73fe86c674e"
      },
      "execution_count": 19,
      "outputs": [
        {
          "output_type": "execute_result",
          "data": {
            "text/plain": [
              "96.00756013868435"
            ]
          },
          "metadata": {},
          "execution_count": 19
        }
      ]
    },
    {
      "cell_type": "code",
      "source": [
        "from sklearn.metrics import mean_squared_error\n",
        "mean_squared_error(y_true, y_pred)"
      ],
      "metadata": {
        "colab": {
          "base_uri": "https://localhost:8080/"
        },
        "id": "Pu7v7VS5xfF0",
        "outputId": "3222883e-7a3a-4a90-d733-828eb8cc9167"
      },
      "execution_count": 20,
      "outputs": [
        {
          "output_type": "execute_result",
          "data": {
            "text/plain": [
              "96.00756013868435"
            ]
          },
          "metadata": {},
          "execution_count": 20
        }
      ]
    },
    {
      "cell_type": "markdown",
      "metadata": {
        "id": "SKJJg3jNG-xj"
      },
      "source": [
        "### <a name='a5'></a> Root Mean Squared Error - RMSE - Pierwiastek błędu średniokwadratowego\n",
        "### $$RMSE = \\sqrt{MSE}$$"
      ]
    },
    {
      "cell_type": "code",
      "source": [
        "def root_mean_squared_error(y_true, y_pred):\n",
        "  return np.sqrt(abs((y_true-y_pred) ** 2).sum()/len(y_true))\n",
        "\n",
        "root_mean_squared_error(y_true, y_pred)"
      ],
      "metadata": {
        "colab": {
          "base_uri": "https://localhost:8080/"
        },
        "id": "X2-o2RbExnLU",
        "outputId": "834caff4-dd46-4328-da1f-b680906d8bf1"
      },
      "execution_count": 23,
      "outputs": [
        {
          "output_type": "execute_result",
          "data": {
            "text/plain": [
              "9.798344765249096"
            ]
          },
          "metadata": {},
          "execution_count": 23
        }
      ]
    },
    {
      "cell_type": "markdown",
      "metadata": {
        "id": "wzS5t7dzIH-x"
      },
      "source": [
        "### <a name='a6'></a>  Max Error - Błąd maksymalny\n",
        "\n",
        "$$ME = max(|y\\_true - y\\_pred|)$$ "
      ]
    },
    {
      "cell_type": "code",
      "source": [
        "def max_error(y_true, y_pred):\n",
        "  return abs(y_true - y_pred).max()\n",
        "\n",
        "max_error(y_true,y_pred)"
      ],
      "metadata": {
        "colab": {
          "base_uri": "https://localhost:8080/"
        },
        "id": "zAVHwq1EyGOP",
        "outputId": "fd316087-fbf2-49dd-a592-343e5cb067a0"
      },
      "execution_count": 25,
      "outputs": [
        {
          "output_type": "execute_result",
          "data": {
            "text/plain": [
              "34.913136764356324"
            ]
          },
          "metadata": {},
          "execution_count": 25
        }
      ]
    },
    {
      "cell_type": "code",
      "source": [
        "from sklearn.metrics import max_error\n",
        "max_error(y_true,y_pred)"
      ],
      "metadata": {
        "colab": {
          "base_uri": "https://localhost:8080/"
        },
        "id": "9Gu0enMEyUZV",
        "outputId": "a94a1062-9a3a-46e6-a275-0eba0c3a59b8"
      },
      "execution_count": 26,
      "outputs": [
        {
          "output_type": "execute_result",
          "data": {
            "text/plain": [
              "34.913136764356324"
            ]
          },
          "metadata": {},
          "execution_count": 26
        }
      ]
    },
    {
      "cell_type": "markdown",
      "metadata": {
        "id": "xRrH2NA5IYt9"
      },
      "source": [
        "### <a name='a7'></a>  R2 score - współczynnik determinacji\n",
        "### $$R2\\_score = 1 - \\frac{\\sum_{i=1}^{N}(y_{true} - y_{pred})^{2}}{\\sum_{i=1}^{N}(y_{true} - \\overline{y_{true}})^{2}}$$"
      ]
    },
    {
      "cell_type": "code",
      "source": [
        "from sklearn.metrics import r2_score\n",
        "\n",
        "r2_score(y_true, y_pred)"
      ],
      "metadata": {
        "colab": {
          "base_uri": "https://localhost:8080/"
        },
        "id": "21l9bnk5yYzB",
        "outputId": "6d87f1a5-dd03-4b9f-8aca-16808a442598"
      },
      "execution_count": 27,
      "outputs": [
        {
          "output_type": "execute_result",
          "data": {
            "text/plain": [
              "0.7631117325393175"
            ]
          },
          "metadata": {},
          "execution_count": 27
        }
      ]
    },
    {
      "cell_type": "code",
      "source": [
        "def r2_score(y_true,y_pred):\n",
        "  numerator = ((y_true - y_pred) ** 2).sum()\n",
        "  denominator = ((y_true - y_pred.mean()) ** 2).sum()\n",
        "  try:\n",
        "    r2 = 1 - numerator / denominator\n",
        "  except ZeroDivisionError:\n",
        "      print('Dzielenie przez zero')\n",
        "  return r2"
      ],
      "metadata": {
        "id": "6hWuQ5aLyznD"
      },
      "execution_count": 30,
      "outputs": []
    },
    {
      "cell_type": "code",
      "source": [
        "r2_score(y_true, y_pred)"
      ],
      "metadata": {
        "colab": {
          "base_uri": "https://localhost:8080/"
        },
        "id": "lhzTWTIbzXGI",
        "outputId": "3568b386-7ed3-4a29-aeaf-5a45721780bd"
      },
      "execution_count": 31,
      "outputs": [
        {
          "output_type": "execute_result",
          "data": {
            "text/plain": [
              "0.7636194868530246"
            ]
          },
          "metadata": {},
          "execution_count": 31
        }
      ]
    }
  ]
}